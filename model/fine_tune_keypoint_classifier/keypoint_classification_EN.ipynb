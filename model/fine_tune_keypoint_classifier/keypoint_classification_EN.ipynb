{
 "cells": [
  {
   "cell_type": "code",
   "execution_count": 1,
   "metadata": {
    "id": "igMyGnjE9hEp"
   },
   "outputs": [
    {
     "name": "stderr",
     "output_type": "stream",
     "text": [
      "2024-04-24 02:29:40.769844: I tensorflow/core/util/util.cc:169] oneDNN custom operations are on. You may see slightly different numerical results due to floating-point round-off errors from different computation orders. To turn them off, set the environment variable `TF_ENABLE_ONEDNN_OPTS=0`.\n"
     ]
    }
   ],
   "source": [
    "import csv\n",
    "\n",
    "import numpy as np\n",
    "import tensorflow as tf\n",
    "from sklearn.model_selection import train_test_split\n",
    "\n",
    "RANDOM_SEED = 42"
   ]
  },
  {
   "cell_type": "markdown",
   "metadata": {
    "id": "t2HDvhIu9hEr"
   },
   "source": [
    "# Specify each path"
   ]
  },
  {
   "cell_type": "code",
   "execution_count": 2,
   "metadata": {},
   "outputs": [
    {
     "data": {
      "text/plain": [
       "'/root/hand-gesture-recognition-mediapipe'"
      ]
     },
     "execution_count": 2,
     "metadata": {},
     "output_type": "execute_result"
    }
   ],
   "source": [
    "import os\n",
    "os.chdir(\"../..\")\n",
    "os.getcwd()"
   ]
  },
  {
   "cell_type": "code",
   "execution_count": 3,
   "metadata": {
    "id": "9NvZP2Zn9hEy"
   },
   "outputs": [],
   "source": [
    "dataset = 'model/fine_tune_keypoint_classifier/keypoint.csv'\n",
    "classes_path = 'model/fine_tune_keypoint_classifier/keypoint_classifier_label.csv'\n",
    "model_save_path = 'model/fine_tune_keypoint_classifier/keypoint_classifier.hdf5'\n",
    "tflite_save_path = 'model/fine_tune_keypoint_classifier/keypoint_classifier.tflite'"
   ]
  },
  {
   "cell_type": "markdown",
   "metadata": {
    "id": "s5oMH7x19hEz"
   },
   "source": [
    "# Set number of classes"
   ]
  },
  {
   "cell_type": "code",
   "execution_count": 43,
   "metadata": {
    "id": "du4kodXL9hEz"
   },
   "outputs": [],
   "source": [
    "NUM_CLASSES = 18"
   ]
  },
  {
   "cell_type": "markdown",
   "metadata": {
    "id": "XjnL0uso9hEz"
   },
   "source": [
    "# Dataset reading"
   ]
  },
  {
   "cell_type": "code",
   "execution_count": 44,
   "metadata": {
    "id": "QT5ZqtEz9hE0"
   },
   "outputs": [],
   "source": [
    "X_dataset = np.loadtxt(dataset, delimiter=',', dtype='float32', usecols=list(range(1, (21 * 2) + 1)))"
   ]
  },
  {
   "cell_type": "code",
   "execution_count": 45,
   "metadata": {
    "id": "QmoKFsp49hE0"
   },
   "outputs": [],
   "source": [
    "y_dataset = np.loadtxt(dataset, delimiter=',', dtype='int32', usecols=(0))"
   ]
  },
  {
   "cell_type": "code",
   "execution_count": 46,
   "metadata": {
    "id": "xQU7JTZ_9hE0"
   },
   "outputs": [],
   "source": [
    "X_train, X_test, y_train, y_test = train_test_split(X_dataset, y_dataset, train_size=0.75, random_state=RANDOM_SEED)"
   ]
  },
  {
   "cell_type": "code",
   "execution_count": 47,
   "metadata": {},
   "outputs": [],
   "source": [
    "classes = np.loadtxt(classes_path, delimiter=',', dtype='str')"
   ]
  },
  {
   "cell_type": "markdown",
   "metadata": {
    "id": "mxK_lETT9hE0"
   },
   "source": [
    "# Model building"
   ]
  },
  {
   "cell_type": "code",
   "execution_count": 48,
   "metadata": {
    "id": "vHBmUf1t9hE1"
   },
   "outputs": [],
   "source": [
    "from tensorflow.keras.layers import Input, Dense, Dropout\n",
    "\n",
    "model = tf.keras.models.Sequential([\n",
    "    Input((21 * 2, )),\n",
    "    Dense(256, activation='relu'),\n",
    "    Dense(512, activation='relu'),\n",
    "    Dense(1024, activation='relu'),\n",
    "    Dense(1024, activation='relu'),\n",
    "    Dropout(0.2),\n",
    "    Dense(NUM_CLASSES, activation='softmax')\n",
    "])"
   ]
  },
  {
   "cell_type": "code",
   "execution_count": 49,
   "metadata": {
    "colab": {
     "base_uri": "https://localhost:8080/"
    },
    "id": "ypqky9tc9hE1",
    "outputId": "5db082bb-30e3-4110-bf63-a1ee777ecd46"
   },
   "outputs": [
    {
     "name": "stdout",
     "output_type": "stream",
     "text": [
      "Model: \"sequential_2\"\n",
      "_________________________________________________________________\n",
      " Layer (type)                Output Shape              Param #   \n",
      "=================================================================\n",
      " dense_10 (Dense)            (None, 256)               11008     \n",
      "                                                                 \n",
      " dense_11 (Dense)            (None, 512)               131584    \n",
      "                                                                 \n",
      " dense_12 (Dense)            (None, 1024)              525312    \n",
      "                                                                 \n",
      " dense_13 (Dense)            (None, 1024)              1049600   \n",
      "                                                                 \n",
      " dropout_2 (Dropout)         (None, 1024)              0         \n",
      "                                                                 \n",
      " dense_14 (Dense)            (None, 18)                18450     \n",
      "                                                                 \n",
      "=================================================================\n",
      "Total params: 1,735,954\n",
      "Trainable params: 1,735,954\n",
      "Non-trainable params: 0\n",
      "_________________________________________________________________\n"
     ]
    }
   ],
   "source": [
    "model.summary()  # tf.keras.utils.plot_model(model, show_shapes=True)"
   ]
  },
  {
   "cell_type": "code",
   "execution_count": 51,
   "metadata": {
    "id": "MbMjOflQ9hE1"
   },
   "outputs": [],
   "source": [
    "# Model checkpoint callback\n",
    "cp_callback = tf.keras.callbacks.ModelCheckpoint(\n",
    "    model_save_path, verbose=1, save_weights_only=False)\n",
    "logs_path = \"model/fine_tune_keypoint_classifier/log\"\n",
    "if not os.path.exists(log_path):\n",
    "    os.mkdir(log_path)\n",
    "cm_callback = tf.keras.callbacks.TensorBoard(\n",
    "            log_dir=logs_path,\n",
    "            update_freq='batch',\n",
    "            profile_batch=0)\n",
    "# Callback for early stopping\n",
    "es_callback = tf.keras.callbacks.EarlyStopping(patience=100, verbose=1)"
   ]
  },
  {
   "cell_type": "code",
   "execution_count": 52,
   "metadata": {
    "id": "c3Dac0M_9hE2"
   },
   "outputs": [],
   "source": [
    "# Model compilation\n",
    "model.compile(\n",
    "    optimizer='adam',\n",
    "    loss='sparse_categorical_crossentropy',\n",
    "    metrics=['accuracy']\n",
    ")"
   ]
  },
  {
   "cell_type": "markdown",
   "metadata": {
    "id": "7XI0j1Iu9hE2"
   },
   "source": [
    "# Model training"
   ]
  },
  {
   "cell_type": "code",
   "execution_count": 53,
   "metadata": {
    "colab": {
     "base_uri": "https://localhost:8080/"
    },
    "id": "WirBl-JE9hE3",
    "outputId": "71b30ca2-8294-4d9d-8aa2-800d90d399de",
    "scrolled": true
   },
   "outputs": [
    {
     "name": "stdout",
     "output_type": "stream",
     "text": [
      "Epoch 1/1000\n",
      "1/1 [==============================] - ETA: 0s - loss: 2.8913 - accuracy: 0.0499\n",
      "Epoch 1: saving model to model/fine_tune_keypoint_classifier/keypoint_classifier.hdf5\n",
      "1/1 [==============================] - 1s 792ms/step - loss: 2.8913 - accuracy: 0.0499 - val_loss: 2.8720 - val_accuracy: 0.1015\n",
      "Epoch 2/1000\n",
      "1/1 [==============================] - ETA: 0s - loss: 2.8652 - accuracy: 0.1354\n",
      "Epoch 2: saving model to model/fine_tune_keypoint_classifier/keypoint_classifier.hdf5\n",
      "1/1 [==============================] - 0s 144ms/step - loss: 2.8652 - accuracy: 0.1354 - val_loss: 2.8524 - val_accuracy: 0.1548\n",
      "Epoch 3/1000\n",
      "1/1 [==============================] - ETA: 0s - loss: 2.8381 - accuracy: 0.1920\n",
      "Epoch 3: saving model to model/fine_tune_keypoint_classifier/keypoint_classifier.hdf5\n",
      "1/1 [==============================] - 0s 149ms/step - loss: 2.8381 - accuracy: 0.1920 - val_loss: 2.8223 - val_accuracy: 0.1701\n",
      "Epoch 4/1000\n",
      "1/1 [==============================] - ETA: 0s - loss: 2.8029 - accuracy: 0.1963\n",
      "Epoch 4: saving model to model/fine_tune_keypoint_classifier/keypoint_classifier.hdf5\n",
      "1/1 [==============================] - 0s 158ms/step - loss: 2.8029 - accuracy: 0.1963 - val_loss: 2.7777 - val_accuracy: 0.1878\n",
      "Epoch 5/1000\n",
      "1/1 [==============================] - ETA: 0s - loss: 2.7530 - accuracy: 0.2107\n",
      "Epoch 5: saving model to model/fine_tune_keypoint_classifier/keypoint_classifier.hdf5\n",
      "1/1 [==============================] - 0s 139ms/step - loss: 2.7530 - accuracy: 0.2107 - val_loss: 2.7194 - val_accuracy: 0.1929\n",
      "Epoch 6/1000\n",
      "1/1 [==============================] - ETA: 0s - loss: 2.6936 - accuracy: 0.2166\n",
      "Epoch 6: saving model to model/fine_tune_keypoint_classifier/keypoint_classifier.hdf5\n",
      "1/1 [==============================] - 0s 159ms/step - loss: 2.6936 - accuracy: 0.2166 - val_loss: 2.6513 - val_accuracy: 0.1980\n",
      "Epoch 7/1000\n",
      "1/1 [==============================] - ETA: 0s - loss: 2.6224 - accuracy: 0.2394\n",
      "Epoch 7: saving model to model/fine_tune_keypoint_classifier/keypoint_classifier.hdf5\n",
      "1/1 [==============================] - 0s 146ms/step - loss: 2.6224 - accuracy: 0.2394 - val_loss: 2.5814 - val_accuracy: 0.2208\n",
      "Epoch 8/1000\n",
      "1/1 [==============================] - ETA: 0s - loss: 2.5530 - accuracy: 0.2563\n",
      "Epoch 8: saving model to model/fine_tune_keypoint_classifier/keypoint_classifier.hdf5\n",
      "1/1 [==============================] - 0s 150ms/step - loss: 2.5530 - accuracy: 0.2563 - val_loss: 2.5109 - val_accuracy: 0.2589\n",
      "Epoch 9/1000\n",
      "1/1 [==============================] - ETA: 0s - loss: 2.4848 - accuracy: 0.2750\n",
      "Epoch 9: saving model to model/fine_tune_keypoint_classifier/keypoint_classifier.hdf5\n",
      "1/1 [==============================] - 0s 148ms/step - loss: 2.4848 - accuracy: 0.2750 - val_loss: 2.4359 - val_accuracy: 0.2995\n",
      "Epoch 10/1000\n",
      "1/1 [==============================] - ETA: 0s - loss: 2.4174 - accuracy: 0.2970\n",
      "Epoch 10: saving model to model/fine_tune_keypoint_classifier/keypoint_classifier.hdf5\n",
      "1/1 [==============================] - 0s 163ms/step - loss: 2.4174 - accuracy: 0.2970 - val_loss: 2.3550 - val_accuracy: 0.3173\n",
      "Epoch 11/1000\n",
      "1/1 [==============================] - ETA: 0s - loss: 2.3361 - accuracy: 0.2919\n",
      "Epoch 11: saving model to model/fine_tune_keypoint_classifier/keypoint_classifier.hdf5\n",
      "1/1 [==============================] - 0s 153ms/step - loss: 2.3361 - accuracy: 0.2919 - val_loss: 2.2659 - val_accuracy: 0.3452\n",
      "Epoch 12/1000\n",
      "1/1 [==============================] - ETA: 0s - loss: 2.2487 - accuracy: 0.3342\n",
      "Epoch 12: saving model to model/fine_tune_keypoint_classifier/keypoint_classifier.hdf5\n",
      "1/1 [==============================] - 0s 159ms/step - loss: 2.2487 - accuracy: 0.3342 - val_loss: 2.1754 - val_accuracy: 0.3680\n",
      "Epoch 13/1000\n",
      "1/1 [==============================] - ETA: 0s - loss: 2.1527 - accuracy: 0.3443\n",
      "Epoch 13: saving model to model/fine_tune_keypoint_classifier/keypoint_classifier.hdf5\n",
      "1/1 [==============================] - 0s 153ms/step - loss: 2.1527 - accuracy: 0.3443 - val_loss: 2.0787 - val_accuracy: 0.3909\n",
      "Epoch 14/1000\n",
      "1/1 [==============================] - ETA: 0s - loss: 2.0811 - accuracy: 0.3596\n",
      "Epoch 14: saving model to model/fine_tune_keypoint_classifier/keypoint_classifier.hdf5\n",
      "1/1 [==============================] - 0s 149ms/step - loss: 2.0811 - accuracy: 0.3596 - val_loss: 2.0604 - val_accuracy: 0.3782\n",
      "Epoch 15/1000\n",
      "1/1 [==============================] - ETA: 0s - loss: 2.0345 - accuracy: 0.3579\n",
      "Epoch 15: saving model to model/fine_tune_keypoint_classifier/keypoint_classifier.hdf5\n",
      "1/1 [==============================] - 0s 143ms/step - loss: 2.0345 - accuracy: 0.3579 - val_loss: 2.0171 - val_accuracy: 0.2868\n",
      "Epoch 16/1000\n",
      "1/1 [==============================] - ETA: 0s - loss: 2.0382 - accuracy: 0.3291\n",
      "Epoch 16: saving model to model/fine_tune_keypoint_classifier/keypoint_classifier.hdf5\n",
      "1/1 [==============================] - 0s 142ms/step - loss: 2.0382 - accuracy: 0.3291 - val_loss: 1.8924 - val_accuracy: 0.4695\n",
      "Epoch 17/1000\n",
      "1/1 [==============================] - ETA: 0s - loss: 1.8915 - accuracy: 0.4399\n",
      "Epoch 17: saving model to model/fine_tune_keypoint_classifier/keypoint_classifier.hdf5\n",
      "1/1 [==============================] - 0s 150ms/step - loss: 1.8915 - accuracy: 0.4399 - val_loss: 1.9580 - val_accuracy: 0.3883\n",
      "Epoch 18/1000\n",
      "1/1 [==============================] - ETA: 0s - loss: 1.9462 - accuracy: 0.3841\n",
      "Epoch 18: saving model to model/fine_tune_keypoint_classifier/keypoint_classifier.hdf5\n",
      "1/1 [==============================] - 0s 147ms/step - loss: 1.9462 - accuracy: 0.3841 - val_loss: 1.8206 - val_accuracy: 0.4645\n",
      "Epoch 19/1000\n",
      "1/1 [==============================] - ETA: 0s - loss: 1.8110 - accuracy: 0.4484\n",
      "Epoch 19: saving model to model/fine_tune_keypoint_classifier/keypoint_classifier.hdf5\n",
      "1/1 [==============================] - 0s 139ms/step - loss: 1.8110 - accuracy: 0.4484 - val_loss: 1.8399 - val_accuracy: 0.4137\n",
      "Epoch 20/1000\n",
      "1/1 [==============================] - ETA: 0s - loss: 1.8565 - accuracy: 0.4078\n",
      "Epoch 20: saving model to model/fine_tune_keypoint_classifier/keypoint_classifier.hdf5\n",
      "1/1 [==============================] - 0s 151ms/step - loss: 1.8565 - accuracy: 0.4078 - val_loss: 1.7517 - val_accuracy: 0.4670\n",
      "Epoch 21/1000\n",
      "1/1 [==============================] - ETA: 0s - loss: 1.7422 - accuracy: 0.4653\n",
      "Epoch 21: saving model to model/fine_tune_keypoint_classifier/keypoint_classifier.hdf5\n",
      "1/1 [==============================] - 0s 145ms/step - loss: 1.7422 - accuracy: 0.4653 - val_loss: 1.7849 - val_accuracy: 0.4594\n",
      "Epoch 22/1000\n",
      "1/1 [==============================] - ETA: 0s - loss: 1.7708 - accuracy: 0.4374\n",
      "Epoch 22: saving model to model/fine_tune_keypoint_classifier/keypoint_classifier.hdf5\n",
      "1/1 [==============================] - 0s 147ms/step - loss: 1.7708 - accuracy: 0.4374 - val_loss: 1.6987 - val_accuracy: 0.5152\n",
      "Epoch 23/1000\n",
      "1/1 [==============================] - ETA: 0s - loss: 1.6968 - accuracy: 0.4704\n",
      "Epoch 23: saving model to model/fine_tune_keypoint_classifier/keypoint_classifier.hdf5\n",
      "1/1 [==============================] - 0s 150ms/step - loss: 1.6968 - accuracy: 0.4704 - val_loss: 1.6699 - val_accuracy: 0.4822\n",
      "Epoch 24/1000\n",
      "1/1 [==============================] - ETA: 0s - loss: 1.6779 - accuracy: 0.4738\n",
      "Epoch 24: saving model to model/fine_tune_keypoint_classifier/keypoint_classifier.hdf5\n",
      "1/1 [==============================] - 0s 177ms/step - loss: 1.6779 - accuracy: 0.4738 - val_loss: 1.6350 - val_accuracy: 0.5102\n",
      "Epoch 25/1000\n",
      "1/1 [==============================] - ETA: 0s - loss: 1.6320 - accuracy: 0.4805\n",
      "Epoch 25: saving model to model/fine_tune_keypoint_classifier/keypoint_classifier.hdf5\n",
      "1/1 [==============================] - 0s 229ms/step - loss: 1.6320 - accuracy: 0.4805 - val_loss: 1.6061 - val_accuracy: 0.5279\n",
      "Epoch 26/1000\n",
      "1/1 [==============================] - ETA: 0s - loss: 1.5822 - accuracy: 0.5042\n",
      "Epoch 26: saving model to model/fine_tune_keypoint_classifier/keypoint_classifier.hdf5\n",
      "1/1 [==============================] - 0s 183ms/step - loss: 1.5822 - accuracy: 0.5042 - val_loss: 1.5985 - val_accuracy: 0.5355\n",
      "Epoch 27/1000\n",
      "1/1 [==============================] - ETA: 0s - loss: 1.5775 - accuracy: 0.4992\n",
      "Epoch 27: saving model to model/fine_tune_keypoint_classifier/keypoint_classifier.hdf5\n",
      "1/1 [==============================] - 0s 174ms/step - loss: 1.5775 - accuracy: 0.4992 - val_loss: 1.5374 - val_accuracy: 0.5355\n",
      "Epoch 28/1000\n",
      "1/1 [==============================] - ETA: 0s - loss: 1.5143 - accuracy: 0.5186\n",
      "Epoch 28: saving model to model/fine_tune_keypoint_classifier/keypoint_classifier.hdf5\n",
      "1/1 [==============================] - 0s 220ms/step - loss: 1.5143 - accuracy: 0.5186 - val_loss: 1.5253 - val_accuracy: 0.5051\n",
      "Epoch 29/1000\n",
      "1/1 [==============================] - ETA: 0s - loss: 1.5087 - accuracy: 0.5135\n",
      "Epoch 29: saving model to model/fine_tune_keypoint_classifier/keypoint_classifier.hdf5\n",
      "1/1 [==============================] - 0s 149ms/step - loss: 1.5087 - accuracy: 0.5135 - val_loss: 1.4704 - val_accuracy: 0.5584\n",
      "Epoch 30/1000\n",
      "1/1 [==============================] - ETA: 0s - loss: 1.4645 - accuracy: 0.5372\n",
      "Epoch 30: saving model to model/fine_tune_keypoint_classifier/keypoint_classifier.hdf5\n",
      "1/1 [==============================] - 0s 177ms/step - loss: 1.4645 - accuracy: 0.5372 - val_loss: 1.4587 - val_accuracy: 0.5635\n",
      "Epoch 31/1000\n",
      "1/1 [==============================] - ETA: 0s - loss: 1.4435 - accuracy: 0.5381\n",
      "Epoch 31: saving model to model/fine_tune_keypoint_classifier/keypoint_classifier.hdf5\n",
      "1/1 [==============================] - 0s 181ms/step - loss: 1.4435 - accuracy: 0.5381 - val_loss: 1.4341 - val_accuracy: 0.5863\n",
      "Epoch 32/1000\n",
      "1/1 [==============================] - ETA: 0s - loss: 1.3970 - accuracy: 0.5482\n",
      "Epoch 32: saving model to model/fine_tune_keypoint_classifier/keypoint_classifier.hdf5\n",
      "1/1 [==============================] - 0s 165ms/step - loss: 1.3970 - accuracy: 0.5482 - val_loss: 1.4112 - val_accuracy: 0.5533\n",
      "Epoch 33/1000\n",
      "1/1 [==============================] - ETA: 0s - loss: 1.3765 - accuracy: 0.5677\n",
      "Epoch 33: saving model to model/fine_tune_keypoint_classifier/keypoint_classifier.hdf5\n",
      "1/1 [==============================] - 0s 164ms/step - loss: 1.3765 - accuracy: 0.5677 - val_loss: 1.3885 - val_accuracy: 0.5584\n",
      "Epoch 34/1000\n",
      "1/1 [==============================] - ETA: 0s - loss: 1.3626 - accuracy: 0.5770\n",
      "Epoch 34: saving model to model/fine_tune_keypoint_classifier/keypoint_classifier.hdf5\n",
      "1/1 [==============================] - 0s 142ms/step - loss: 1.3626 - accuracy: 0.5770 - val_loss: 1.3528 - val_accuracy: 0.5787\n",
      "Epoch 35/1000\n",
      "1/1 [==============================] - ETA: 0s - loss: 1.3224 - accuracy: 0.5719\n",
      "Epoch 35: saving model to model/fine_tune_keypoint_classifier/keypoint_classifier.hdf5\n",
      "1/1 [==============================] - 0s 142ms/step - loss: 1.3224 - accuracy: 0.5719 - val_loss: 1.3402 - val_accuracy: 0.5863\n",
      "Epoch 36/1000\n",
      "1/1 [==============================] - ETA: 0s - loss: 1.2995 - accuracy: 0.5922\n",
      "Epoch 36: saving model to model/fine_tune_keypoint_classifier/keypoint_classifier.hdf5\n",
      "1/1 [==============================] - 0s 146ms/step - loss: 1.2995 - accuracy: 0.5922 - val_loss: 1.3082 - val_accuracy: 0.5888\n",
      "Epoch 37/1000\n",
      "1/1 [==============================] - ETA: 0s - loss: 1.2717 - accuracy: 0.5931\n",
      "Epoch 37: saving model to model/fine_tune_keypoint_classifier/keypoint_classifier.hdf5\n",
      "1/1 [==============================] - 0s 162ms/step - loss: 1.2717 - accuracy: 0.5931 - val_loss: 1.3035 - val_accuracy: 0.5888\n",
      "Epoch 38/1000\n",
      "1/1 [==============================] - ETA: 0s - loss: 1.2635 - accuracy: 0.6032\n",
      "Epoch 38: saving model to model/fine_tune_keypoint_classifier/keypoint_classifier.hdf5\n",
      "1/1 [==============================] - 0s 145ms/step - loss: 1.2635 - accuracy: 0.6032 - val_loss: 1.2734 - val_accuracy: 0.5990\n",
      "Epoch 39/1000\n",
      "1/1 [==============================] - ETA: 0s - loss: 1.2191 - accuracy: 0.6159\n",
      "Epoch 39: saving model to model/fine_tune_keypoint_classifier/keypoint_classifier.hdf5\n",
      "1/1 [==============================] - 0s 150ms/step - loss: 1.2191 - accuracy: 0.6159 - val_loss: 1.2645 - val_accuracy: 0.5914\n",
      "Epoch 40/1000\n",
      "1/1 [==============================] - ETA: 0s - loss: 1.2179 - accuracy: 0.6142\n",
      "Epoch 40: saving model to model/fine_tune_keypoint_classifier/keypoint_classifier.hdf5\n",
      "1/1 [==============================] - 0s 156ms/step - loss: 1.2179 - accuracy: 0.6142 - val_loss: 1.2408 - val_accuracy: 0.5888\n",
      "Epoch 41/1000\n",
      "1/1 [==============================] - ETA: 0s - loss: 1.1735 - accuracy: 0.6235\n",
      "Epoch 41: saving model to model/fine_tune_keypoint_classifier/keypoint_classifier.hdf5\n",
      "1/1 [==============================] - 0s 223ms/step - loss: 1.1735 - accuracy: 0.6235 - val_loss: 1.2178 - val_accuracy: 0.6091\n",
      "Epoch 42/1000\n",
      "1/1 [==============================] - ETA: 0s - loss: 1.1639 - accuracy: 0.6252\n",
      "Epoch 42: saving model to model/fine_tune_keypoint_classifier/keypoint_classifier.hdf5\n",
      "1/1 [==============================] - 0s 234ms/step - loss: 1.1639 - accuracy: 0.6252 - val_loss: 1.2038 - val_accuracy: 0.6091\n",
      "Epoch 43/1000\n",
      "1/1 [==============================] - ETA: 0s - loss: 1.1464 - accuracy: 0.6261\n",
      "Epoch 43: saving model to model/fine_tune_keypoint_classifier/keypoint_classifier.hdf5\n",
      "1/1 [==============================] - 0s 196ms/step - loss: 1.1464 - accuracy: 0.6261 - val_loss: 1.1845 - val_accuracy: 0.6015\n",
      "Epoch 44/1000\n",
      "1/1 [==============================] - ETA: 0s - loss: 1.1173 - accuracy: 0.6438\n",
      "Epoch 44: saving model to model/fine_tune_keypoint_classifier/keypoint_classifier.hdf5\n",
      "1/1 [==============================] - 0s 170ms/step - loss: 1.1173 - accuracy: 0.6438 - val_loss: 1.1769 - val_accuracy: 0.5990\n",
      "Epoch 45/1000\n",
      "1/1 [==============================] - ETA: 0s - loss: 1.1090 - accuracy: 0.6286\n",
      "Epoch 45: saving model to model/fine_tune_keypoint_classifier/keypoint_classifier.hdf5\n",
      "1/1 [==============================] - 0s 169ms/step - loss: 1.1090 - accuracy: 0.6286 - val_loss: 1.1594 - val_accuracy: 0.6117\n",
      "Epoch 46/1000\n",
      "1/1 [==============================] - ETA: 0s - loss: 1.0870 - accuracy: 0.6481\n",
      "Epoch 46: saving model to model/fine_tune_keypoint_classifier/keypoint_classifier.hdf5\n",
      "1/1 [==============================] - 0s 156ms/step - loss: 1.0870 - accuracy: 0.6481 - val_loss: 1.1482 - val_accuracy: 0.6244\n",
      "Epoch 47/1000\n",
      "1/1 [==============================] - ETA: 0s - loss: 1.0660 - accuracy: 0.6565\n",
      "Epoch 47: saving model to model/fine_tune_keypoint_classifier/keypoint_classifier.hdf5\n",
      "1/1 [==============================] - 0s 156ms/step - loss: 1.0660 - accuracy: 0.6565 - val_loss: 1.1391 - val_accuracy: 0.6193\n",
      "Epoch 48/1000\n",
      "1/1 [==============================] - ETA: 0s - loss: 1.0490 - accuracy: 0.6506\n",
      "Epoch 48: saving model to model/fine_tune_keypoint_classifier/keypoint_classifier.hdf5\n",
      "1/1 [==============================] - 0s 153ms/step - loss: 1.0490 - accuracy: 0.6506 - val_loss: 1.1247 - val_accuracy: 0.6447\n",
      "Epoch 49/1000\n",
      "1/1 [==============================] - ETA: 0s - loss: 1.0578 - accuracy: 0.6514\n",
      "Epoch 49: saving model to model/fine_tune_keypoint_classifier/keypoint_classifier.hdf5\n",
      "1/1 [==============================] - 0s 152ms/step - loss: 1.0578 - accuracy: 0.6514 - val_loss: 1.1477 - val_accuracy: 0.6244\n",
      "Epoch 50/1000\n",
      "1/1 [==============================] - ETA: 0s - loss: 1.0391 - accuracy: 0.6514\n",
      "Epoch 50: saving model to model/fine_tune_keypoint_classifier/keypoint_classifier.hdf5\n",
      "1/1 [==============================] - 0s 172ms/step - loss: 1.0391 - accuracy: 0.6514 - val_loss: 1.1092 - val_accuracy: 0.6294\n",
      "Epoch 51/1000\n",
      "1/1 [==============================] - ETA: 0s - loss: 1.0333 - accuracy: 0.6506\n",
      "Epoch 51: saving model to model/fine_tune_keypoint_classifier/keypoint_classifier.hdf5\n",
      "1/1 [==============================] - 0s 153ms/step - loss: 1.0333 - accuracy: 0.6506 - val_loss: 1.0928 - val_accuracy: 0.6447\n",
      "Epoch 52/1000\n",
      "1/1 [==============================] - ETA: 0s - loss: 0.9840 - accuracy: 0.6802\n",
      "Epoch 52: saving model to model/fine_tune_keypoint_classifier/keypoint_classifier.hdf5\n",
      "1/1 [==============================] - 0s 154ms/step - loss: 0.9840 - accuracy: 0.6802 - val_loss: 1.0954 - val_accuracy: 0.6244\n",
      "Epoch 53/1000\n",
      "1/1 [==============================] - ETA: 0s - loss: 0.9851 - accuracy: 0.6726\n",
      "Epoch 53: saving model to model/fine_tune_keypoint_classifier/keypoint_classifier.hdf5\n",
      "1/1 [==============================] - 0s 165ms/step - loss: 0.9851 - accuracy: 0.6726 - val_loss: 1.0724 - val_accuracy: 0.6497\n",
      "Epoch 54/1000\n",
      "1/1 [==============================] - ETA: 0s - loss: 0.9748 - accuracy: 0.6878\n",
      "Epoch 54: saving model to model/fine_tune_keypoint_classifier/keypoint_classifier.hdf5\n",
      "1/1 [==============================] - 0s 169ms/step - loss: 0.9748 - accuracy: 0.6878 - val_loss: 1.0595 - val_accuracy: 0.6599\n",
      "Epoch 55/1000\n",
      "1/1 [==============================] - ETA: 0s - loss: 0.9525 - accuracy: 0.6904\n",
      "Epoch 55: saving model to model/fine_tune_keypoint_classifier/keypoint_classifier.hdf5\n",
      "1/1 [==============================] - 0s 150ms/step - loss: 0.9525 - accuracy: 0.6904 - val_loss: 1.0715 - val_accuracy: 0.6599\n",
      "Epoch 56/1000\n",
      "1/1 [==============================] - ETA: 0s - loss: 0.9404 - accuracy: 0.6870\n",
      "Epoch 56: saving model to model/fine_tune_keypoint_classifier/keypoint_classifier.hdf5\n",
      "1/1 [==============================] - 0s 155ms/step - loss: 0.9404 - accuracy: 0.6870 - val_loss: 1.0422 - val_accuracy: 0.6675\n",
      "Epoch 57/1000\n",
      "1/1 [==============================] - ETA: 0s - loss: 0.9299 - accuracy: 0.6988\n",
      "Epoch 57: saving model to model/fine_tune_keypoint_classifier/keypoint_classifier.hdf5\n",
      "1/1 [==============================] - 0s 151ms/step - loss: 0.9299 - accuracy: 0.6988 - val_loss: 1.0338 - val_accuracy: 0.6624\n",
      "Epoch 58/1000\n",
      "1/1 [==============================] - ETA: 0s - loss: 0.9185 - accuracy: 0.6912\n",
      "Epoch 58: saving model to model/fine_tune_keypoint_classifier/keypoint_classifier.hdf5\n",
      "1/1 [==============================] - 0s 161ms/step - loss: 0.9185 - accuracy: 0.6912 - val_loss: 1.0649 - val_accuracy: 0.6396\n",
      "Epoch 59/1000\n",
      "1/1 [==============================] - ETA: 0s - loss: 0.9312 - accuracy: 0.6785\n",
      "Epoch 59: saving model to model/fine_tune_keypoint_classifier/keypoint_classifier.hdf5\n",
      "1/1 [==============================] - 0s 154ms/step - loss: 0.9312 - accuracy: 0.6785 - val_loss: 1.0215 - val_accuracy: 0.6777\n",
      "Epoch 60/1000\n",
      "1/1 [==============================] - ETA: 0s - loss: 0.9057 - accuracy: 0.6819\n",
      "Epoch 60: saving model to model/fine_tune_keypoint_classifier/keypoint_classifier.hdf5\n",
      "1/1 [==============================] - 0s 150ms/step - loss: 0.9057 - accuracy: 0.6819 - val_loss: 1.0097 - val_accuracy: 0.6751\n",
      "Epoch 61/1000\n",
      "1/1 [==============================] - ETA: 0s - loss: 0.8899 - accuracy: 0.7030\n",
      "Epoch 61: saving model to model/fine_tune_keypoint_classifier/keypoint_classifier.hdf5\n",
      "1/1 [==============================] - 0s 177ms/step - loss: 0.8899 - accuracy: 0.7030 - val_loss: 1.0336 - val_accuracy: 0.6675\n",
      "Epoch 62/1000\n",
      "1/1 [==============================] - ETA: 0s - loss: 0.8798 - accuracy: 0.6954\n",
      "Epoch 62: saving model to model/fine_tune_keypoint_classifier/keypoint_classifier.hdf5\n",
      "1/1 [==============================] - 0s 189ms/step - loss: 0.8798 - accuracy: 0.6954 - val_loss: 1.0009 - val_accuracy: 0.6726\n",
      "Epoch 63/1000\n",
      "1/1 [==============================] - ETA: 0s - loss: 0.8577 - accuracy: 0.7200\n",
      "Epoch 63: saving model to model/fine_tune_keypoint_classifier/keypoint_classifier.hdf5\n",
      "1/1 [==============================] - 0s 207ms/step - loss: 0.8577 - accuracy: 0.7200 - val_loss: 0.9969 - val_accuracy: 0.6777\n",
      "Epoch 64/1000\n",
      "1/1 [==============================] - ETA: 0s - loss: 0.8599 - accuracy: 0.7149\n",
      "Epoch 64: saving model to model/fine_tune_keypoint_classifier/keypoint_classifier.hdf5\n",
      "1/1 [==============================] - 0s 143ms/step - loss: 0.8599 - accuracy: 0.7149 - val_loss: 0.9999 - val_accuracy: 0.6751\n",
      "Epoch 65/1000\n",
      "1/1 [==============================] - ETA: 0s - loss: 0.8479 - accuracy: 0.7140\n",
      "Epoch 65: saving model to model/fine_tune_keypoint_classifier/keypoint_classifier.hdf5\n",
      "1/1 [==============================] - 0s 154ms/step - loss: 0.8479 - accuracy: 0.7140 - val_loss: 0.9852 - val_accuracy: 0.6675\n",
      "Epoch 66/1000\n",
      "1/1 [==============================] - ETA: 0s - loss: 0.8289 - accuracy: 0.7343\n",
      "Epoch 66: saving model to model/fine_tune_keypoint_classifier/keypoint_classifier.hdf5\n",
      "1/1 [==============================] - 0s 164ms/step - loss: 0.8289 - accuracy: 0.7343 - val_loss: 0.9773 - val_accuracy: 0.6802\n",
      "Epoch 67/1000\n",
      "1/1 [==============================] - ETA: 0s - loss: 0.8314 - accuracy: 0.7217\n",
      "Epoch 67: saving model to model/fine_tune_keypoint_classifier/keypoint_classifier.hdf5\n",
      "1/1 [==============================] - 0s 192ms/step - loss: 0.8314 - accuracy: 0.7217 - val_loss: 0.9758 - val_accuracy: 0.6777\n",
      "Epoch 68/1000\n",
      "1/1 [==============================] - ETA: 0s - loss: 0.8129 - accuracy: 0.7327\n",
      "Epoch 68: saving model to model/fine_tune_keypoint_classifier/keypoint_classifier.hdf5\n",
      "1/1 [==============================] - 0s 183ms/step - loss: 0.8129 - accuracy: 0.7327 - val_loss: 0.9829 - val_accuracy: 0.6827\n",
      "Epoch 69/1000\n",
      "1/1 [==============================] - ETA: 0s - loss: 0.8141 - accuracy: 0.7234\n",
      "Epoch 69: saving model to model/fine_tune_keypoint_classifier/keypoint_classifier.hdf5\n",
      "1/1 [==============================] - 0s 165ms/step - loss: 0.8141 - accuracy: 0.7234 - val_loss: 0.9586 - val_accuracy: 0.6954\n",
      "Epoch 70/1000\n",
      "1/1 [==============================] - ETA: 0s - loss: 0.7937 - accuracy: 0.7360\n",
      "Epoch 70: saving model to model/fine_tune_keypoint_classifier/keypoint_classifier.hdf5\n",
      "1/1 [==============================] - 0s 155ms/step - loss: 0.7937 - accuracy: 0.7360 - val_loss: 0.9556 - val_accuracy: 0.7107\n",
      "Epoch 71/1000\n",
      "1/1 [==============================] - ETA: 0s - loss: 0.7918 - accuracy: 0.7352\n",
      "Epoch 71: saving model to model/fine_tune_keypoint_classifier/keypoint_classifier.hdf5\n",
      "1/1 [==============================] - 0s 182ms/step - loss: 0.7918 - accuracy: 0.7352 - val_loss: 0.9624 - val_accuracy: 0.6954\n",
      "Epoch 72/1000\n",
      "1/1 [==============================] - ETA: 0s - loss: 0.7826 - accuracy: 0.7420\n",
      "Epoch 72: saving model to model/fine_tune_keypoint_classifier/keypoint_classifier.hdf5\n",
      "1/1 [==============================] - 0s 157ms/step - loss: 0.7826 - accuracy: 0.7420 - val_loss: 0.9624 - val_accuracy: 0.7030\n",
      "Epoch 73/1000\n",
      "1/1 [==============================] - ETA: 0s - loss: 0.7794 - accuracy: 0.7318\n",
      "Epoch 73: saving model to model/fine_tune_keypoint_classifier/keypoint_classifier.hdf5\n",
      "1/1 [==============================] - 0s 144ms/step - loss: 0.7794 - accuracy: 0.7318 - val_loss: 0.9668 - val_accuracy: 0.7056\n",
      "Epoch 74/1000\n",
      "1/1 [==============================] - ETA: 0s - loss: 0.7738 - accuracy: 0.7420\n",
      "Epoch 74: saving model to model/fine_tune_keypoint_classifier/keypoint_classifier.hdf5\n",
      "1/1 [==============================] - 0s 151ms/step - loss: 0.7738 - accuracy: 0.7420 - val_loss: 0.9747 - val_accuracy: 0.6929\n",
      "Epoch 75/1000\n",
      "1/1 [==============================] - ETA: 0s - loss: 0.7569 - accuracy: 0.7462\n",
      "Epoch 75: saving model to model/fine_tune_keypoint_classifier/keypoint_classifier.hdf5\n",
      "1/1 [==============================] - 0s 147ms/step - loss: 0.7569 - accuracy: 0.7462 - val_loss: 0.9535 - val_accuracy: 0.7005\n",
      "Epoch 76/1000\n",
      "1/1 [==============================] - ETA: 0s - loss: 0.7445 - accuracy: 0.7572\n",
      "Epoch 76: saving model to model/fine_tune_keypoint_classifier/keypoint_classifier.hdf5\n",
      "1/1 [==============================] - 0s 148ms/step - loss: 0.7445 - accuracy: 0.7572 - val_loss: 0.9405 - val_accuracy: 0.6980\n",
      "Epoch 77/1000\n",
      "1/1 [==============================] - ETA: 0s - loss: 0.7373 - accuracy: 0.7580\n",
      "Epoch 77: saving model to model/fine_tune_keypoint_classifier/keypoint_classifier.hdf5\n",
      "1/1 [==============================] - 0s 166ms/step - loss: 0.7373 - accuracy: 0.7580 - val_loss: 0.9424 - val_accuracy: 0.7030\n",
      "Epoch 78/1000\n",
      "1/1 [==============================] - ETA: 0s - loss: 0.7264 - accuracy: 0.7496\n",
      "Epoch 78: saving model to model/fine_tune_keypoint_classifier/keypoint_classifier.hdf5\n",
      "1/1 [==============================] - 0s 139ms/step - loss: 0.7264 - accuracy: 0.7496 - val_loss: 0.9392 - val_accuracy: 0.7107\n",
      "Epoch 79/1000\n",
      "1/1 [==============================] - ETA: 0s - loss: 0.7183 - accuracy: 0.7597\n",
      "Epoch 79: saving model to model/fine_tune_keypoint_classifier/keypoint_classifier.hdf5\n",
      "1/1 [==============================] - 0s 160ms/step - loss: 0.7183 - accuracy: 0.7597 - val_loss: 0.9379 - val_accuracy: 0.7183\n",
      "Epoch 80/1000\n",
      "1/1 [==============================] - ETA: 0s - loss: 0.7158 - accuracy: 0.7640\n",
      "Epoch 80: saving model to model/fine_tune_keypoint_classifier/keypoint_classifier.hdf5\n",
      "1/1 [==============================] - 0s 146ms/step - loss: 0.7158 - accuracy: 0.7640 - val_loss: 0.9517 - val_accuracy: 0.7208\n",
      "Epoch 81/1000\n",
      "1/1 [==============================] - ETA: 0s - loss: 0.7093 - accuracy: 0.7606\n",
      "Epoch 81: saving model to model/fine_tune_keypoint_classifier/keypoint_classifier.hdf5\n",
      "1/1 [==============================] - 0s 142ms/step - loss: 0.7093 - accuracy: 0.7606 - val_loss: 0.9527 - val_accuracy: 0.7107\n",
      "Epoch 82/1000\n",
      "1/1 [==============================] - ETA: 0s - loss: 0.7078 - accuracy: 0.7614\n",
      "Epoch 82: saving model to model/fine_tune_keypoint_classifier/keypoint_classifier.hdf5\n",
      "1/1 [==============================] - 0s 156ms/step - loss: 0.7078 - accuracy: 0.7614 - val_loss: 0.9430 - val_accuracy: 0.7208\n",
      "Epoch 83/1000\n",
      "1/1 [==============================] - ETA: 0s - loss: 0.6875 - accuracy: 0.7817\n",
      "Epoch 83: saving model to model/fine_tune_keypoint_classifier/keypoint_classifier.hdf5\n",
      "1/1 [==============================] - 0s 148ms/step - loss: 0.6875 - accuracy: 0.7817 - val_loss: 0.9381 - val_accuracy: 0.7284\n",
      "Epoch 84/1000\n",
      "1/1 [==============================] - ETA: 0s - loss: 0.6818 - accuracy: 0.7800\n",
      "Epoch 84: saving model to model/fine_tune_keypoint_classifier/keypoint_classifier.hdf5\n",
      "1/1 [==============================] - 0s 151ms/step - loss: 0.6818 - accuracy: 0.7800 - val_loss: 0.9449 - val_accuracy: 0.7208\n",
      "Epoch 85/1000\n",
      "1/1 [==============================] - ETA: 0s - loss: 0.6784 - accuracy: 0.7750\n",
      "Epoch 85: saving model to model/fine_tune_keypoint_classifier/keypoint_classifier.hdf5\n",
      "1/1 [==============================] - 0s 146ms/step - loss: 0.6784 - accuracy: 0.7750 - val_loss: 0.9474 - val_accuracy: 0.7360\n",
      "Epoch 86/1000\n",
      "1/1 [==============================] - ETA: 0s - loss: 0.6731 - accuracy: 0.7826\n",
      "Epoch 86: saving model to model/fine_tune_keypoint_classifier/keypoint_classifier.hdf5\n",
      "1/1 [==============================] - 0s 148ms/step - loss: 0.6731 - accuracy: 0.7826 - val_loss: 0.9321 - val_accuracy: 0.7360\n",
      "Epoch 87/1000\n",
      "1/1 [==============================] - ETA: 0s - loss: 0.6651 - accuracy: 0.7809\n",
      "Epoch 87: saving model to model/fine_tune_keypoint_classifier/keypoint_classifier.hdf5\n",
      "1/1 [==============================] - 0s 146ms/step - loss: 0.6651 - accuracy: 0.7809 - val_loss: 0.9364 - val_accuracy: 0.7360\n",
      "Epoch 88/1000\n",
      "1/1 [==============================] - ETA: 0s - loss: 0.6538 - accuracy: 0.7876\n",
      "Epoch 88: saving model to model/fine_tune_keypoint_classifier/keypoint_classifier.hdf5\n",
      "1/1 [==============================] - 0s 152ms/step - loss: 0.6538 - accuracy: 0.7876 - val_loss: 0.9393 - val_accuracy: 0.7360\n",
      "Epoch 89/1000\n",
      "1/1 [==============================] - ETA: 0s - loss: 0.6577 - accuracy: 0.7817\n",
      "Epoch 89: saving model to model/fine_tune_keypoint_classifier/keypoint_classifier.hdf5\n",
      "1/1 [==============================] - 0s 144ms/step - loss: 0.6577 - accuracy: 0.7817 - val_loss: 0.9367 - val_accuracy: 0.7360\n",
      "Epoch 90/1000\n",
      "1/1 [==============================] - ETA: 0s - loss: 0.6376 - accuracy: 0.7978\n",
      "Epoch 90: saving model to model/fine_tune_keypoint_classifier/keypoint_classifier.hdf5\n",
      "1/1 [==============================] - 0s 146ms/step - loss: 0.6376 - accuracy: 0.7978 - val_loss: 0.9450 - val_accuracy: 0.7386\n",
      "Epoch 91/1000\n",
      "1/1 [==============================] - ETA: 0s - loss: 0.6402 - accuracy: 0.7868\n",
      "Epoch 91: saving model to model/fine_tune_keypoint_classifier/keypoint_classifier.hdf5\n",
      "1/1 [==============================] - 0s 143ms/step - loss: 0.6402 - accuracy: 0.7868 - val_loss: 0.9479 - val_accuracy: 0.7360\n",
      "Epoch 92/1000\n",
      "1/1 [==============================] - ETA: 0s - loss: 0.6290 - accuracy: 0.7944\n",
      "Epoch 92: saving model to model/fine_tune_keypoint_classifier/keypoint_classifier.hdf5\n",
      "1/1 [==============================] - 0s 142ms/step - loss: 0.6290 - accuracy: 0.7944 - val_loss: 0.9433 - val_accuracy: 0.7411\n",
      "Epoch 93/1000\n",
      "1/1 [==============================] - ETA: 0s - loss: 0.6295 - accuracy: 0.7970\n",
      "Epoch 93: saving model to model/fine_tune_keypoint_classifier/keypoint_classifier.hdf5\n",
      "1/1 [==============================] - 0s 151ms/step - loss: 0.6295 - accuracy: 0.7970 - val_loss: 0.9476 - val_accuracy: 0.7411\n",
      "Epoch 94/1000\n",
      "1/1 [==============================] - ETA: 0s - loss: 0.6253 - accuracy: 0.7953\n",
      "Epoch 94: saving model to model/fine_tune_keypoint_classifier/keypoint_classifier.hdf5\n",
      "1/1 [==============================] - 0s 153ms/step - loss: 0.6253 - accuracy: 0.7953 - val_loss: 0.9470 - val_accuracy: 0.7538\n",
      "Epoch 95/1000\n",
      "1/1 [==============================] - ETA: 0s - loss: 0.6084 - accuracy: 0.8012\n",
      "Epoch 95: saving model to model/fine_tune_keypoint_classifier/keypoint_classifier.hdf5\n",
      "1/1 [==============================] - 0s 145ms/step - loss: 0.6084 - accuracy: 0.8012 - val_loss: 0.9475 - val_accuracy: 0.7487\n",
      "Epoch 96/1000\n",
      "1/1 [==============================] - ETA: 0s - loss: 0.6113 - accuracy: 0.8054\n",
      "Epoch 96: saving model to model/fine_tune_keypoint_classifier/keypoint_classifier.hdf5\n",
      "1/1 [==============================] - 0s 143ms/step - loss: 0.6113 - accuracy: 0.8054 - val_loss: 0.9511 - val_accuracy: 0.7513\n",
      "Epoch 97/1000\n",
      "1/1 [==============================] - ETA: 0s - loss: 0.6045 - accuracy: 0.8063\n",
      "Epoch 97: saving model to model/fine_tune_keypoint_classifier/keypoint_classifier.hdf5\n",
      "1/1 [==============================] - 0s 144ms/step - loss: 0.6045 - accuracy: 0.8063 - val_loss: 0.9503 - val_accuracy: 0.7487\n",
      "Epoch 98/1000\n",
      "1/1 [==============================] - ETA: 0s - loss: 0.6033 - accuracy: 0.8037\n",
      "Epoch 98: saving model to model/fine_tune_keypoint_classifier/keypoint_classifier.hdf5\n",
      "1/1 [==============================] - 0s 146ms/step - loss: 0.6033 - accuracy: 0.8037 - val_loss: 0.9466 - val_accuracy: 0.7538\n",
      "Epoch 99/1000\n",
      "1/1 [==============================] - ETA: 0s - loss: 0.5954 - accuracy: 0.8063\n",
      "Epoch 99: saving model to model/fine_tune_keypoint_classifier/keypoint_classifier.hdf5\n",
      "1/1 [==============================] - 0s 184ms/step - loss: 0.5954 - accuracy: 0.8063 - val_loss: 0.9522 - val_accuracy: 0.7640\n",
      "Epoch 100/1000\n",
      "1/1 [==============================] - ETA: 0s - loss: 0.5837 - accuracy: 0.8054\n",
      "Epoch 100: saving model to model/fine_tune_keypoint_classifier/keypoint_classifier.hdf5\n",
      "1/1 [==============================] - 0s 172ms/step - loss: 0.5837 - accuracy: 0.8054 - val_loss: 0.9486 - val_accuracy: 0.7513\n",
      "Epoch 101/1000\n",
      "1/1 [==============================] - ETA: 0s - loss: 0.5852 - accuracy: 0.8096\n",
      "Epoch 101: saving model to model/fine_tune_keypoint_classifier/keypoint_classifier.hdf5\n",
      "1/1 [==============================] - 0s 155ms/step - loss: 0.5852 - accuracy: 0.8096 - val_loss: 0.9547 - val_accuracy: 0.7563\n",
      "Epoch 102/1000\n",
      "1/1 [==============================] - ETA: 0s - loss: 0.5760 - accuracy: 0.8173\n",
      "Epoch 102: saving model to model/fine_tune_keypoint_classifier/keypoint_classifier.hdf5\n",
      "1/1 [==============================] - 0s 147ms/step - loss: 0.5760 - accuracy: 0.8173 - val_loss: 0.9555 - val_accuracy: 0.7589\n",
      "Epoch 103/1000\n",
      "1/1 [==============================] - ETA: 0s - loss: 0.5714 - accuracy: 0.8122\n",
      "Epoch 103: saving model to model/fine_tune_keypoint_classifier/keypoint_classifier.hdf5\n",
      "1/1 [==============================] - 0s 146ms/step - loss: 0.5714 - accuracy: 0.8122 - val_loss: 0.9572 - val_accuracy: 0.7589\n",
      "Epoch 104/1000\n",
      "1/1 [==============================] - ETA: 0s - loss: 0.5716 - accuracy: 0.8206\n",
      "Epoch 104: saving model to model/fine_tune_keypoint_classifier/keypoint_classifier.hdf5\n",
      "1/1 [==============================] - 0s 141ms/step - loss: 0.5716 - accuracy: 0.8206 - val_loss: 0.9634 - val_accuracy: 0.7614\n",
      "Epoch 105/1000\n",
      "1/1 [==============================] - ETA: 0s - loss: 0.5646 - accuracy: 0.8164\n",
      "Epoch 105: saving model to model/fine_tune_keypoint_classifier/keypoint_classifier.hdf5\n",
      "1/1 [==============================] - 0s 160ms/step - loss: 0.5646 - accuracy: 0.8164 - val_loss: 0.9550 - val_accuracy: 0.7665\n",
      "Epoch 106/1000\n",
      "1/1 [==============================] - ETA: 0s - loss: 0.5628 - accuracy: 0.8249\n",
      "Epoch 106: saving model to model/fine_tune_keypoint_classifier/keypoint_classifier.hdf5\n",
      "1/1 [==============================] - 0s 136ms/step - loss: 0.5628 - accuracy: 0.8249 - val_loss: 0.9593 - val_accuracy: 0.7640\n",
      "Epoch 107/1000\n",
      "1/1 [==============================] - ETA: 0s - loss: 0.5542 - accuracy: 0.8206\n",
      "Epoch 107: saving model to model/fine_tune_keypoint_classifier/keypoint_classifier.hdf5\n",
      "1/1 [==============================] - 0s 142ms/step - loss: 0.5542 - accuracy: 0.8206 - val_loss: 0.9518 - val_accuracy: 0.7716\n",
      "Epoch 108/1000\n",
      "1/1 [==============================] - ETA: 0s - loss: 0.5441 - accuracy: 0.8266\n",
      "Epoch 108: saving model to model/fine_tune_keypoint_classifier/keypoint_classifier.hdf5\n",
      "1/1 [==============================] - 0s 151ms/step - loss: 0.5441 - accuracy: 0.8266 - val_loss: 0.9635 - val_accuracy: 0.7614\n",
      "Epoch 109/1000\n",
      "1/1 [==============================] - ETA: 0s - loss: 0.5362 - accuracy: 0.8266\n",
      "Epoch 109: saving model to model/fine_tune_keypoint_classifier/keypoint_classifier.hdf5\n",
      "1/1 [==============================] - 0s 156ms/step - loss: 0.5362 - accuracy: 0.8266 - val_loss: 0.9839 - val_accuracy: 0.7640\n",
      "Epoch 110/1000\n",
      "1/1 [==============================] - ETA: 0s - loss: 0.5382 - accuracy: 0.8299\n",
      "Epoch 110: saving model to model/fine_tune_keypoint_classifier/keypoint_classifier.hdf5\n",
      "1/1 [==============================] - 0s 148ms/step - loss: 0.5382 - accuracy: 0.8299 - val_loss: 0.9826 - val_accuracy: 0.7665\n",
      "Epoch 111/1000\n",
      "1/1 [==============================] - ETA: 0s - loss: 0.5493 - accuracy: 0.8223\n",
      "Epoch 111: saving model to model/fine_tune_keypoint_classifier/keypoint_classifier.hdf5\n",
      "1/1 [==============================] - 0s 148ms/step - loss: 0.5493 - accuracy: 0.8223 - val_loss: 0.9973 - val_accuracy: 0.7665\n",
      "Epoch 112/1000\n",
      "1/1 [==============================] - ETA: 0s - loss: 0.5375 - accuracy: 0.8299\n",
      "Epoch 112: saving model to model/fine_tune_keypoint_classifier/keypoint_classifier.hdf5\n",
      "1/1 [==============================] - 0s 138ms/step - loss: 0.5375 - accuracy: 0.8299 - val_loss: 0.9753 - val_accuracy: 0.7614\n",
      "Epoch 113/1000\n",
      "1/1 [==============================] - ETA: 0s - loss: 0.5394 - accuracy: 0.8232\n",
      "Epoch 113: saving model to model/fine_tune_keypoint_classifier/keypoint_classifier.hdf5\n",
      "1/1 [==============================] - 0s 142ms/step - loss: 0.5394 - accuracy: 0.8232 - val_loss: 0.9766 - val_accuracy: 0.7513\n",
      "Epoch 114/1000\n",
      "1/1 [==============================] - ETA: 0s - loss: 0.5245 - accuracy: 0.8409\n",
      "Epoch 114: saving model to model/fine_tune_keypoint_classifier/keypoint_classifier.hdf5\n",
      "1/1 [==============================] - 0s 146ms/step - loss: 0.5245 - accuracy: 0.8409 - val_loss: 0.9797 - val_accuracy: 0.7716\n",
      "Epoch 115/1000\n",
      "1/1 [==============================] - ETA: 0s - loss: 0.5156 - accuracy: 0.8401\n",
      "Epoch 115: saving model to model/fine_tune_keypoint_classifier/keypoint_classifier.hdf5\n",
      "1/1 [==============================] - 0s 153ms/step - loss: 0.5156 - accuracy: 0.8401 - val_loss: 0.9820 - val_accuracy: 0.7766\n",
      "Epoch 116/1000\n",
      "1/1 [==============================] - ETA: 0s - loss: 0.5151 - accuracy: 0.8367\n",
      "Epoch 116: saving model to model/fine_tune_keypoint_classifier/keypoint_classifier.hdf5\n",
      "1/1 [==============================] - 0s 143ms/step - loss: 0.5151 - accuracy: 0.8367 - val_loss: 0.9992 - val_accuracy: 0.7665\n",
      "Epoch 117/1000\n",
      "1/1 [==============================] - ETA: 0s - loss: 0.5206 - accuracy: 0.8359\n",
      "Epoch 117: saving model to model/fine_tune_keypoint_classifier/keypoint_classifier.hdf5\n",
      "1/1 [==============================] - 0s 205ms/step - loss: 0.5206 - accuracy: 0.8359 - val_loss: 0.9936 - val_accuracy: 0.7614\n",
      "Epoch 118/1000\n",
      "1/1 [==============================] - ETA: 0s - loss: 0.5133 - accuracy: 0.8384\n",
      "Epoch 118: saving model to model/fine_tune_keypoint_classifier/keypoint_classifier.hdf5\n",
      "1/1 [==============================] - 0s 199ms/step - loss: 0.5133 - accuracy: 0.8384 - val_loss: 0.9847 - val_accuracy: 0.7766\n",
      "Epoch 119/1000\n",
      "1/1 [==============================] - ETA: 0s - loss: 0.5015 - accuracy: 0.8477\n",
      "Epoch 119: saving model to model/fine_tune_keypoint_classifier/keypoint_classifier.hdf5\n",
      "1/1 [==============================] - 0s 192ms/step - loss: 0.5015 - accuracy: 0.8477 - val_loss: 0.9986 - val_accuracy: 0.7716\n",
      "Epoch 120/1000\n",
      "1/1 [==============================] - ETA: 0s - loss: 0.4978 - accuracy: 0.8452\n",
      "Epoch 120: saving model to model/fine_tune_keypoint_classifier/keypoint_classifier.hdf5\n",
      "1/1 [==============================] - 0s 175ms/step - loss: 0.4978 - accuracy: 0.8452 - val_loss: 1.0018 - val_accuracy: 0.7766\n",
      "Epoch 121/1000\n",
      "1/1 [==============================] - ETA: 0s - loss: 0.4911 - accuracy: 0.8477\n",
      "Epoch 121: saving model to model/fine_tune_keypoint_classifier/keypoint_classifier.hdf5\n",
      "1/1 [==============================] - 0s 206ms/step - loss: 0.4911 - accuracy: 0.8477 - val_loss: 1.0093 - val_accuracy: 0.7716\n",
      "Epoch 122/1000\n",
      "1/1 [==============================] - ETA: 0s - loss: 0.4877 - accuracy: 0.8435\n",
      "Epoch 122: saving model to model/fine_tune_keypoint_classifier/keypoint_classifier.hdf5\n",
      "1/1 [==============================] - 0s 165ms/step - loss: 0.4877 - accuracy: 0.8435 - val_loss: 1.0193 - val_accuracy: 0.7741\n",
      "Epoch 123/1000\n",
      "1/1 [==============================] - ETA: 0s - loss: 0.4877 - accuracy: 0.8376\n",
      "Epoch 123: saving model to model/fine_tune_keypoint_classifier/keypoint_classifier.hdf5\n",
      "1/1 [==============================] - 0s 166ms/step - loss: 0.4877 - accuracy: 0.8376 - val_loss: 1.0078 - val_accuracy: 0.7716\n",
      "Epoch 124/1000\n",
      "1/1 [==============================] - ETA: 0s - loss: 0.4851 - accuracy: 0.8409\n",
      "Epoch 124: saving model to model/fine_tune_keypoint_classifier/keypoint_classifier.hdf5\n",
      "1/1 [==============================] - 0s 172ms/step - loss: 0.4851 - accuracy: 0.8409 - val_loss: 1.0015 - val_accuracy: 0.7843\n",
      "Epoch 125/1000\n",
      "1/1 [==============================] - ETA: 0s - loss: 0.4816 - accuracy: 0.8486\n",
      "Epoch 125: saving model to model/fine_tune_keypoint_classifier/keypoint_classifier.hdf5\n",
      "1/1 [==============================] - 0s 159ms/step - loss: 0.4816 - accuracy: 0.8486 - val_loss: 1.0178 - val_accuracy: 0.7792\n",
      "Epoch 126/1000\n",
      "1/1 [==============================] - ETA: 0s - loss: 0.4800 - accuracy: 0.8511\n",
      "Epoch 126: saving model to model/fine_tune_keypoint_classifier/keypoint_classifier.hdf5\n",
      "1/1 [==============================] - 0s 154ms/step - loss: 0.4800 - accuracy: 0.8511 - val_loss: 1.0188 - val_accuracy: 0.7741\n",
      "Epoch 127/1000\n",
      "1/1 [==============================] - ETA: 0s - loss: 0.4824 - accuracy: 0.8393\n",
      "Epoch 127: saving model to model/fine_tune_keypoint_classifier/keypoint_classifier.hdf5\n",
      "1/1 [==============================] - 0s 150ms/step - loss: 0.4824 - accuracy: 0.8393 - val_loss: 1.0334 - val_accuracy: 0.7716\n",
      "Epoch 128/1000\n",
      "1/1 [==============================] - ETA: 0s - loss: 0.4632 - accuracy: 0.8528\n",
      "Epoch 128: saving model to model/fine_tune_keypoint_classifier/keypoint_classifier.hdf5\n",
      "1/1 [==============================] - 0s 143ms/step - loss: 0.4632 - accuracy: 0.8528 - val_loss: 1.0273 - val_accuracy: 0.7792\n",
      "Epoch 129/1000\n",
      "1/1 [==============================] - ETA: 0s - loss: 0.4603 - accuracy: 0.8477\n",
      "Epoch 129: saving model to model/fine_tune_keypoint_classifier/keypoint_classifier.hdf5\n",
      "1/1 [==============================] - 0s 158ms/step - loss: 0.4603 - accuracy: 0.8477 - val_loss: 1.0291 - val_accuracy: 0.7716\n",
      "Epoch 130/1000\n",
      "1/1 [==============================] - ETA: 0s - loss: 0.4735 - accuracy: 0.8553\n",
      "Epoch 130: saving model to model/fine_tune_keypoint_classifier/keypoint_classifier.hdf5\n",
      "1/1 [==============================] - 0s 151ms/step - loss: 0.4735 - accuracy: 0.8553 - val_loss: 1.0363 - val_accuracy: 0.7843\n",
      "Epoch 131/1000\n",
      "1/1 [==============================] - ETA: 0s - loss: 0.4604 - accuracy: 0.8545\n",
      "Epoch 131: saving model to model/fine_tune_keypoint_classifier/keypoint_classifier.hdf5\n",
      "1/1 [==============================] - 0s 154ms/step - loss: 0.4604 - accuracy: 0.8545 - val_loss: 1.0285 - val_accuracy: 0.7893\n",
      "Epoch 132/1000\n",
      "1/1 [==============================] - ETA: 0s - loss: 0.4570 - accuracy: 0.8528\n",
      "Epoch 132: saving model to model/fine_tune_keypoint_classifier/keypoint_classifier.hdf5\n",
      "1/1 [==============================] - 0s 163ms/step - loss: 0.4570 - accuracy: 0.8528 - val_loss: 1.0365 - val_accuracy: 0.7843\n",
      "Epoch 133/1000\n",
      "1/1 [==============================] - ETA: 0s - loss: 0.4500 - accuracy: 0.8587\n",
      "Epoch 133: saving model to model/fine_tune_keypoint_classifier/keypoint_classifier.hdf5\n",
      "1/1 [==============================] - 0s 150ms/step - loss: 0.4500 - accuracy: 0.8587 - val_loss: 1.0609 - val_accuracy: 0.7817\n",
      "Epoch 134/1000\n",
      "1/1 [==============================] - ETA: 0s - loss: 0.4538 - accuracy: 0.8503\n",
      "Epoch 134: saving model to model/fine_tune_keypoint_classifier/keypoint_classifier.hdf5\n",
      "1/1 [==============================] - 0s 150ms/step - loss: 0.4538 - accuracy: 0.8503 - val_loss: 1.0518 - val_accuracy: 0.7766\n",
      "Epoch 135/1000\n",
      "1/1 [==============================] - ETA: 0s - loss: 0.4440 - accuracy: 0.8553\n",
      "Epoch 135: saving model to model/fine_tune_keypoint_classifier/keypoint_classifier.hdf5\n",
      "1/1 [==============================] - 0s 151ms/step - loss: 0.4440 - accuracy: 0.8553 - val_loss: 1.0495 - val_accuracy: 0.7741\n",
      "Epoch 136/1000\n",
      "1/1 [==============================] - ETA: 0s - loss: 0.4414 - accuracy: 0.8596\n",
      "Epoch 136: saving model to model/fine_tune_keypoint_classifier/keypoint_classifier.hdf5\n",
      "1/1 [==============================] - 0s 149ms/step - loss: 0.4414 - accuracy: 0.8596 - val_loss: 1.0606 - val_accuracy: 0.7817\n",
      "Epoch 137/1000\n",
      "1/1 [==============================] - ETA: 0s - loss: 0.4454 - accuracy: 0.8562\n",
      "Epoch 137: saving model to model/fine_tune_keypoint_classifier/keypoint_classifier.hdf5\n",
      "1/1 [==============================] - 0s 142ms/step - loss: 0.4454 - accuracy: 0.8562 - val_loss: 1.0493 - val_accuracy: 0.7868\n",
      "Epoch 138/1000\n",
      "1/1 [==============================] - ETA: 0s - loss: 0.4306 - accuracy: 0.8680\n",
      "Epoch 138: saving model to model/fine_tune_keypoint_classifier/keypoint_classifier.hdf5\n",
      "1/1 [==============================] - 0s 147ms/step - loss: 0.4306 - accuracy: 0.8680 - val_loss: 1.0458 - val_accuracy: 0.7868\n",
      "Epoch 139/1000\n",
      "1/1 [==============================] - ETA: 0s - loss: 0.4318 - accuracy: 0.8604\n",
      "Epoch 139: saving model to model/fine_tune_keypoint_classifier/keypoint_classifier.hdf5\n",
      "1/1 [==============================] - 0s 151ms/step - loss: 0.4318 - accuracy: 0.8604 - val_loss: 1.0664 - val_accuracy: 0.7817\n",
      "Epoch 140/1000\n",
      "1/1 [==============================] - ETA: 0s - loss: 0.4351 - accuracy: 0.8621\n",
      "Epoch 140: saving model to model/fine_tune_keypoint_classifier/keypoint_classifier.hdf5\n",
      "1/1 [==============================] - 0s 152ms/step - loss: 0.4351 - accuracy: 0.8621 - val_loss: 1.0551 - val_accuracy: 0.7792\n",
      "Epoch 141/1000\n",
      "1/1 [==============================] - ETA: 0s - loss: 0.4270 - accuracy: 0.8638\n",
      "Epoch 141: saving model to model/fine_tune_keypoint_classifier/keypoint_classifier.hdf5\n",
      "1/1 [==============================] - 0s 151ms/step - loss: 0.4270 - accuracy: 0.8638 - val_loss: 1.0528 - val_accuracy: 0.7817\n",
      "Epoch 142/1000\n",
      "1/1 [==============================] - ETA: 0s - loss: 0.4216 - accuracy: 0.8680\n",
      "Epoch 142: saving model to model/fine_tune_keypoint_classifier/keypoint_classifier.hdf5\n",
      "1/1 [==============================] - 0s 143ms/step - loss: 0.4216 - accuracy: 0.8680 - val_loss: 1.0633 - val_accuracy: 0.7817\n",
      "Epoch 143/1000\n",
      "1/1 [==============================] - ETA: 0s - loss: 0.4264 - accuracy: 0.8638\n",
      "Epoch 143: saving model to model/fine_tune_keypoint_classifier/keypoint_classifier.hdf5\n",
      "1/1 [==============================] - 0s 152ms/step - loss: 0.4264 - accuracy: 0.8638 - val_loss: 1.0603 - val_accuracy: 0.7843\n",
      "Epoch 144/1000\n",
      "1/1 [==============================] - ETA: 0s - loss: 0.4171 - accuracy: 0.8646\n",
      "Epoch 144: saving model to model/fine_tune_keypoint_classifier/keypoint_classifier.hdf5\n",
      "1/1 [==============================] - 0s 156ms/step - loss: 0.4171 - accuracy: 0.8646 - val_loss: 1.0819 - val_accuracy: 0.7843\n",
      "Epoch 145/1000\n",
      "1/1 [==============================] - ETA: 0s - loss: 0.4096 - accuracy: 0.8748\n",
      "Epoch 145: saving model to model/fine_tune_keypoint_classifier/keypoint_classifier.hdf5\n",
      "1/1 [==============================] - 0s 154ms/step - loss: 0.4096 - accuracy: 0.8748 - val_loss: 1.0939 - val_accuracy: 0.7843\n",
      "Epoch 146/1000\n",
      "1/1 [==============================] - ETA: 0s - loss: 0.4143 - accuracy: 0.8689\n",
      "Epoch 146: saving model to model/fine_tune_keypoint_classifier/keypoint_classifier.hdf5\n",
      "1/1 [==============================] - 0s 146ms/step - loss: 0.4143 - accuracy: 0.8689 - val_loss: 1.0864 - val_accuracy: 0.7893\n",
      "Epoch 147/1000\n",
      "1/1 [==============================] - ETA: 0s - loss: 0.4155 - accuracy: 0.8663\n",
      "Epoch 147: saving model to model/fine_tune_keypoint_classifier/keypoint_classifier.hdf5\n",
      "1/1 [==============================] - 0s 155ms/step - loss: 0.4155 - accuracy: 0.8663 - val_loss: 1.0992 - val_accuracy: 0.7792\n",
      "Epoch 148/1000\n",
      "1/1 [==============================] - ETA: 0s - loss: 0.4112 - accuracy: 0.8714\n",
      "Epoch 148: saving model to model/fine_tune_keypoint_classifier/keypoint_classifier.hdf5\n",
      "1/1 [==============================] - 0s 159ms/step - loss: 0.4112 - accuracy: 0.8714 - val_loss: 1.0893 - val_accuracy: 0.7919\n",
      "Epoch 149/1000\n",
      "1/1 [==============================] - ETA: 0s - loss: 0.4149 - accuracy: 0.8672\n",
      "Epoch 149: saving model to model/fine_tune_keypoint_classifier/keypoint_classifier.hdf5\n",
      "1/1 [==============================] - 0s 148ms/step - loss: 0.4149 - accuracy: 0.8672 - val_loss: 1.0961 - val_accuracy: 0.7741\n",
      "Epoch 150/1000\n",
      "1/1 [==============================] - ETA: 0s - loss: 0.4138 - accuracy: 0.8689\n",
      "Epoch 150: saving model to model/fine_tune_keypoint_classifier/keypoint_classifier.hdf5\n",
      "1/1 [==============================] - 0s 146ms/step - loss: 0.4138 - accuracy: 0.8689 - val_loss: 1.1035 - val_accuracy: 0.7690\n",
      "Epoch 151/1000\n",
      "1/1 [==============================] - ETA: 0s - loss: 0.4074 - accuracy: 0.8706\n",
      "Epoch 151: saving model to model/fine_tune_keypoint_classifier/keypoint_classifier.hdf5\n",
      "1/1 [==============================] - 0s 141ms/step - loss: 0.4074 - accuracy: 0.8706 - val_loss: 1.0986 - val_accuracy: 0.7817\n",
      "Epoch 152/1000\n",
      "1/1 [==============================] - ETA: 0s - loss: 0.4009 - accuracy: 0.8731\n",
      "Epoch 152: saving model to model/fine_tune_keypoint_classifier/keypoint_classifier.hdf5\n",
      "1/1 [==============================] - 0s 165ms/step - loss: 0.4009 - accuracy: 0.8731 - val_loss: 1.1168 - val_accuracy: 0.7868\n",
      "Epoch 153/1000\n",
      "1/1 [==============================] - ETA: 0s - loss: 0.4040 - accuracy: 0.8697\n",
      "Epoch 153: saving model to model/fine_tune_keypoint_classifier/keypoint_classifier.hdf5\n",
      "1/1 [==============================] - 0s 157ms/step - loss: 0.4040 - accuracy: 0.8697 - val_loss: 1.1159 - val_accuracy: 0.7919\n",
      "Epoch 154/1000\n",
      "1/1 [==============================] - ETA: 0s - loss: 0.3864 - accuracy: 0.8756\n",
      "Epoch 154: saving model to model/fine_tune_keypoint_classifier/keypoint_classifier.hdf5\n",
      "1/1 [==============================] - 0s 149ms/step - loss: 0.3864 - accuracy: 0.8756 - val_loss: 1.1316 - val_accuracy: 0.7817\n",
      "Epoch 155/1000\n",
      "1/1 [==============================] - ETA: 0s - loss: 0.3955 - accuracy: 0.8773\n",
      "Epoch 155: saving model to model/fine_tune_keypoint_classifier/keypoint_classifier.hdf5\n",
      "1/1 [==============================] - 0s 158ms/step - loss: 0.3955 - accuracy: 0.8773 - val_loss: 1.1318 - val_accuracy: 0.7868\n",
      "Epoch 156/1000\n",
      "1/1 [==============================] - ETA: 0s - loss: 0.4094 - accuracy: 0.8663\n",
      "Epoch 156: saving model to model/fine_tune_keypoint_classifier/keypoint_classifier.hdf5\n",
      "1/1 [==============================] - 0s 143ms/step - loss: 0.4094 - accuracy: 0.8663 - val_loss: 1.1409 - val_accuracy: 0.7792\n",
      "Epoch 157/1000\n",
      "1/1 [==============================] - ETA: 0s - loss: 0.3945 - accuracy: 0.8697\n",
      "Epoch 157: saving model to model/fine_tune_keypoint_classifier/keypoint_classifier.hdf5\n",
      "1/1 [==============================] - 0s 158ms/step - loss: 0.3945 - accuracy: 0.8697 - val_loss: 1.1450 - val_accuracy: 0.7766\n",
      "Epoch 158/1000\n",
      "1/1 [==============================] - ETA: 0s - loss: 0.3857 - accuracy: 0.8782\n",
      "Epoch 158: saving model to model/fine_tune_keypoint_classifier/keypoint_classifier.hdf5\n",
      "1/1 [==============================] - 0s 184ms/step - loss: 0.3857 - accuracy: 0.8782 - val_loss: 1.1608 - val_accuracy: 0.7893\n",
      "Epoch 159/1000\n",
      "1/1 [==============================] - ETA: 0s - loss: 0.3948 - accuracy: 0.8680\n",
      "Epoch 159: saving model to model/fine_tune_keypoint_classifier/keypoint_classifier.hdf5\n",
      "1/1 [==============================] - 0s 154ms/step - loss: 0.3948 - accuracy: 0.8680 - val_loss: 1.1538 - val_accuracy: 0.7817\n",
      "Epoch 160/1000\n",
      "1/1 [==============================] - ETA: 0s - loss: 0.3773 - accuracy: 0.8824\n",
      "Epoch 160: saving model to model/fine_tune_keypoint_classifier/keypoint_classifier.hdf5\n",
      "1/1 [==============================] - 0s 149ms/step - loss: 0.3773 - accuracy: 0.8824 - val_loss: 1.1606 - val_accuracy: 0.7817\n",
      "Epoch 161/1000\n",
      "1/1 [==============================] - ETA: 0s - loss: 0.3886 - accuracy: 0.8731\n",
      "Epoch 161: saving model to model/fine_tune_keypoint_classifier/keypoint_classifier.hdf5\n",
      "1/1 [==============================] - 0s 148ms/step - loss: 0.3886 - accuracy: 0.8731 - val_loss: 1.1446 - val_accuracy: 0.7868\n",
      "Epoch 162/1000\n",
      "1/1 [==============================] - ETA: 0s - loss: 0.3744 - accuracy: 0.8807\n",
      "Epoch 162: saving model to model/fine_tune_keypoint_classifier/keypoint_classifier.hdf5\n",
      "1/1 [==============================] - 0s 158ms/step - loss: 0.3744 - accuracy: 0.8807 - val_loss: 1.1508 - val_accuracy: 0.7868\n",
      "Epoch 163/1000\n",
      "1/1 [==============================] - ETA: 0s - loss: 0.3722 - accuracy: 0.8875\n",
      "Epoch 163: saving model to model/fine_tune_keypoint_classifier/keypoint_classifier.hdf5\n",
      "1/1 [==============================] - 0s 145ms/step - loss: 0.3722 - accuracy: 0.8875 - val_loss: 1.1640 - val_accuracy: 0.7868\n",
      "Epoch 164/1000\n",
      "1/1 [==============================] - ETA: 0s - loss: 0.3863 - accuracy: 0.8689\n",
      "Epoch 164: saving model to model/fine_tune_keypoint_classifier/keypoint_classifier.hdf5\n",
      "1/1 [==============================] - 0s 165ms/step - loss: 0.3863 - accuracy: 0.8689 - val_loss: 1.1828 - val_accuracy: 0.7766\n",
      "Epoch 165/1000\n",
      "1/1 [==============================] - ETA: 0s - loss: 0.3783 - accuracy: 0.8765\n",
      "Epoch 165: saving model to model/fine_tune_keypoint_classifier/keypoint_classifier.hdf5\n",
      "1/1 [==============================] - 0s 175ms/step - loss: 0.3783 - accuracy: 0.8765 - val_loss: 1.1785 - val_accuracy: 0.7843\n",
      "Epoch 166/1000\n",
      "1/1 [==============================] - ETA: 0s - loss: 0.3701 - accuracy: 0.8773\n",
      "Epoch 166: saving model to model/fine_tune_keypoint_classifier/keypoint_classifier.hdf5\n",
      "1/1 [==============================] - 0s 184ms/step - loss: 0.3701 - accuracy: 0.8773 - val_loss: 1.2000 - val_accuracy: 0.7817\n",
      "Epoch 167/1000\n",
      "1/1 [==============================] - ETA: 0s - loss: 0.3659 - accuracy: 0.8824\n",
      "Epoch 167: saving model to model/fine_tune_keypoint_classifier/keypoint_classifier.hdf5\n",
      "1/1 [==============================] - 0s 189ms/step - loss: 0.3659 - accuracy: 0.8824 - val_loss: 1.1809 - val_accuracy: 0.7893\n",
      "Epoch 168/1000\n",
      "1/1 [==============================] - ETA: 0s - loss: 0.3691 - accuracy: 0.8824\n",
      "Epoch 168: saving model to model/fine_tune_keypoint_classifier/keypoint_classifier.hdf5\n",
      "1/1 [==============================] - 0s 178ms/step - loss: 0.3691 - accuracy: 0.8824 - val_loss: 1.1675 - val_accuracy: 0.7944\n",
      "Epoch 169/1000\n",
      "1/1 [==============================] - ETA: 0s - loss: 0.3605 - accuracy: 0.8858\n",
      "Epoch 169: saving model to model/fine_tune_keypoint_classifier/keypoint_classifier.hdf5\n",
      "1/1 [==============================] - 0s 201ms/step - loss: 0.3605 - accuracy: 0.8858 - val_loss: 1.1869 - val_accuracy: 0.7817\n",
      "Epoch 170/1000\n",
      "1/1 [==============================] - ETA: 0s - loss: 0.3590 - accuracy: 0.8926\n",
      "Epoch 170: saving model to model/fine_tune_keypoint_classifier/keypoint_classifier.hdf5\n",
      "1/1 [==============================] - 0s 249ms/step - loss: 0.3590 - accuracy: 0.8926 - val_loss: 1.1841 - val_accuracy: 0.7792\n",
      "Epoch 171/1000\n",
      "1/1 [==============================] - ETA: 0s - loss: 0.3545 - accuracy: 0.8892\n",
      "Epoch 171: saving model to model/fine_tune_keypoint_classifier/keypoint_classifier.hdf5\n",
      "1/1 [==============================] - 0s 195ms/step - loss: 0.3545 - accuracy: 0.8892 - val_loss: 1.1865 - val_accuracy: 0.7843\n",
      "Epoch 172/1000\n",
      "1/1 [==============================] - ETA: 0s - loss: 0.3614 - accuracy: 0.8858\n",
      "Epoch 172: saving model to model/fine_tune_keypoint_classifier/keypoint_classifier.hdf5\n",
      "1/1 [==============================] - 0s 187ms/step - loss: 0.3614 - accuracy: 0.8858 - val_loss: 1.2154 - val_accuracy: 0.7792\n",
      "Epoch 173/1000\n",
      "1/1 [==============================] - ETA: 0s - loss: 0.3534 - accuracy: 0.8849\n",
      "Epoch 173: saving model to model/fine_tune_keypoint_classifier/keypoint_classifier.hdf5\n",
      "1/1 [==============================] - 0s 196ms/step - loss: 0.3534 - accuracy: 0.8849 - val_loss: 1.2157 - val_accuracy: 0.7970\n",
      "Epoch 174/1000\n",
      "1/1 [==============================] - ETA: 0s - loss: 0.3528 - accuracy: 0.8790\n",
      "Epoch 174: saving model to model/fine_tune_keypoint_classifier/keypoint_classifier.hdf5\n",
      "1/1 [==============================] - 0s 182ms/step - loss: 0.3528 - accuracy: 0.8790 - val_loss: 1.2325 - val_accuracy: 0.7868\n",
      "Epoch 175/1000\n",
      "1/1 [==============================] - ETA: 0s - loss: 0.3465 - accuracy: 0.8926\n",
      "Epoch 175: saving model to model/fine_tune_keypoint_classifier/keypoint_classifier.hdf5\n",
      "1/1 [==============================] - 0s 212ms/step - loss: 0.3465 - accuracy: 0.8926 - val_loss: 1.2285 - val_accuracy: 0.7843\n",
      "Epoch 176/1000\n",
      "1/1 [==============================] - ETA: 0s - loss: 0.3479 - accuracy: 0.8900\n",
      "Epoch 176: saving model to model/fine_tune_keypoint_classifier/keypoint_classifier.hdf5\n",
      "1/1 [==============================] - 0s 169ms/step - loss: 0.3479 - accuracy: 0.8900 - val_loss: 1.2200 - val_accuracy: 0.7792\n",
      "Epoch 177/1000\n",
      "1/1 [==============================] - ETA: 0s - loss: 0.3492 - accuracy: 0.8942\n",
      "Epoch 177: saving model to model/fine_tune_keypoint_classifier/keypoint_classifier.hdf5\n",
      "1/1 [==============================] - 0s 203ms/step - loss: 0.3492 - accuracy: 0.8942 - val_loss: 1.2356 - val_accuracy: 0.7792\n",
      "Epoch 178/1000\n",
      "1/1 [==============================] - ETA: 0s - loss: 0.3451 - accuracy: 0.8934\n",
      "Epoch 178: saving model to model/fine_tune_keypoint_classifier/keypoint_classifier.hdf5\n",
      "1/1 [==============================] - 0s 209ms/step - loss: 0.3451 - accuracy: 0.8934 - val_loss: 1.2282 - val_accuracy: 0.7868\n",
      "Epoch 179/1000\n",
      "1/1 [==============================] - ETA: 0s - loss: 0.3441 - accuracy: 0.8866\n",
      "Epoch 179: saving model to model/fine_tune_keypoint_classifier/keypoint_classifier.hdf5\n",
      "1/1 [==============================] - 0s 194ms/step - loss: 0.3441 - accuracy: 0.8866 - val_loss: 1.2243 - val_accuracy: 0.7995\n",
      "Epoch 180/1000\n",
      "1/1 [==============================] - ETA: 0s - loss: 0.3400 - accuracy: 0.8951\n",
      "Epoch 180: saving model to model/fine_tune_keypoint_classifier/keypoint_classifier.hdf5\n",
      "1/1 [==============================] - 0s 184ms/step - loss: 0.3400 - accuracy: 0.8951 - val_loss: 1.2393 - val_accuracy: 0.7868\n",
      "Epoch 181/1000\n",
      "1/1 [==============================] - ETA: 0s - loss: 0.3449 - accuracy: 0.8875\n",
      "Epoch 181: saving model to model/fine_tune_keypoint_classifier/keypoint_classifier.hdf5\n",
      "1/1 [==============================] - 0s 179ms/step - loss: 0.3449 - accuracy: 0.8875 - val_loss: 1.2449 - val_accuracy: 0.7893\n",
      "Epoch 182/1000\n",
      "1/1 [==============================] - ETA: 0s - loss: 0.3353 - accuracy: 0.8909\n",
      "Epoch 182: saving model to model/fine_tune_keypoint_classifier/keypoint_classifier.hdf5\n",
      "1/1 [==============================] - 0s 189ms/step - loss: 0.3353 - accuracy: 0.8909 - val_loss: 1.2555 - val_accuracy: 0.7868\n",
      "Epoch 183/1000\n",
      "1/1 [==============================] - ETA: 0s - loss: 0.3346 - accuracy: 0.8875\n",
      "Epoch 183: saving model to model/fine_tune_keypoint_classifier/keypoint_classifier.hdf5\n",
      "1/1 [==============================] - 0s 176ms/step - loss: 0.3346 - accuracy: 0.8875 - val_loss: 1.2566 - val_accuracy: 0.7817\n",
      "Epoch 184/1000\n",
      "1/1 [==============================] - ETA: 0s - loss: 0.3315 - accuracy: 0.8875\n",
      "Epoch 184: saving model to model/fine_tune_keypoint_classifier/keypoint_classifier.hdf5\n",
      "1/1 [==============================] - 0s 158ms/step - loss: 0.3315 - accuracy: 0.8875 - val_loss: 1.2444 - val_accuracy: 0.7843\n",
      "Epoch 185/1000\n",
      "1/1 [==============================] - ETA: 0s - loss: 0.3372 - accuracy: 0.8866\n",
      "Epoch 185: saving model to model/fine_tune_keypoint_classifier/keypoint_classifier.hdf5\n",
      "1/1 [==============================] - 0s 198ms/step - loss: 0.3372 - accuracy: 0.8866 - val_loss: 1.2548 - val_accuracy: 0.7817\n",
      "Epoch 186/1000\n",
      "1/1 [==============================] - ETA: 0s - loss: 0.3334 - accuracy: 0.8917\n",
      "Epoch 186: saving model to model/fine_tune_keypoint_classifier/keypoint_classifier.hdf5\n",
      "1/1 [==============================] - 0s 168ms/step - loss: 0.3334 - accuracy: 0.8917 - val_loss: 1.2705 - val_accuracy: 0.7868\n",
      "Epoch 186: early stopping\n"
     ]
    },
    {
     "data": {
      "text/plain": [
       "<keras.callbacks.History at 0x7f914057c880>"
      ]
     },
     "execution_count": 53,
     "metadata": {},
     "output_type": "execute_result"
    }
   ],
   "source": [
    "model.fit(\n",
    "    X_train,\n",
    "    y_train,\n",
    "    epochs=1000,\n",
    "    batch_size=2048,\n",
    "    validation_data=(X_test, y_test),\n",
    "    callbacks=[cp_callback, cm_callback, es_callback]\n",
    ")"
   ]
  },
  {
   "cell_type": "code",
   "execution_count": 54,
   "metadata": {
    "colab": {
     "base_uri": "https://localhost:8080/"
    },
    "id": "pxvb2Y299hE3",
    "outputId": "59eb3185-2e37-4b9e-bc9d-ab1b8ac29b7f"
   },
   "outputs": [
    {
     "name": "stdout",
     "output_type": "stream",
     "text": [
      "4/4 [==============================] - 0s 3ms/step - loss: 1.2705 - accuracy: 0.7868\n"
     ]
    }
   ],
   "source": [
    "# Model evaluation\n",
    "val_loss, val_acc = model.evaluate(X_test, y_test, batch_size=128)"
   ]
  },
  {
   "cell_type": "code",
   "execution_count": 55,
   "metadata": {
    "id": "RBkmDeUW9hE4"
   },
   "outputs": [],
   "source": [
    "# Loading the saved model\n",
    "model = tf.keras.models.load_model(model_save_path)"
   ]
  },
  {
   "cell_type": "code",
   "execution_count": 56,
   "metadata": {
    "colab": {
     "base_uri": "https://localhost:8080/"
    },
    "id": "tFz9Tb0I9hE4",
    "outputId": "1c3b3528-54ae-4ee2-ab04-77429211cbef"
   },
   "outputs": [
    {
     "name": "stdout",
     "output_type": "stream",
     "text": [
      "1/1 [==============================] - 0s 142ms/step\n",
      "[2.6658648e-11 4.2328413e-15 8.5974858e-13 2.3497558e-04 6.3870587e-14\n",
      " 1.1585976e-10 1.6500705e-09 6.9303563e-16 4.4499485e-10 3.7083036e-18\n",
      " 6.7640431e-09 5.3516973e-09 1.4550558e-06 8.9601257e-05 9.9967062e-01\n",
      " 1.2305863e-09 1.2617575e-09 3.3294079e-06]\n",
      "14\n"
     ]
    }
   ],
   "source": [
    "# Inference test\n",
    "predict_result = model.predict(np.array([X_test[0]]))\n",
    "print(np.squeeze(predict_result))\n",
    "print(np.argmax(np.squeeze(predict_result)))"
   ]
  },
  {
   "cell_type": "markdown",
   "metadata": {
    "id": "S3U4yNWx9hE4"
   },
   "source": [
    "# Confusion matrix"
   ]
  },
  {
   "cell_type": "code",
   "execution_count": 57,
   "metadata": {
    "colab": {
     "base_uri": "https://localhost:8080/",
     "height": 582
    },
    "id": "AP1V6SCk9hE5",
    "outputId": "08e41a80-7a4a-4619-8125-ecc371368d19"
   },
   "outputs": [
    {
     "name": "stdout",
     "output_type": "stream",
     "text": [
      "13/13 [==============================] - 0s 1ms/step\n"
     ]
    },
    {
     "data": {
      "image/png": "[encoded data removed]",
      "text/plain": [
       "<Figure size 504x432 with 2 Axes>"
      ]
     },
     "metadata": {
      "needs_background": "light"
     },
     "output_type": "display_data"
    },
    {
     "name": "stdout",
     "output_type": "stream",
     "text": [
      "Classification Report\n",
      "              precision    recall  f1-score   support\n",
      "\n",
      "           0       0.88      0.95      0.91        22\n",
      "           1       0.58      0.69      0.63        16\n",
      "           2       0.85      0.81      0.83        21\n",
      "           3       0.70      0.54      0.61        26\n",
      "           4       0.71      0.85      0.77        26\n",
      "           5       0.80      0.80      0.80        20\n",
      "           6       0.94      0.71      0.81        24\n",
      "           7       0.90      0.78      0.84        23\n",
      "           8       0.79      0.71      0.75        21\n",
      "           9       0.78      0.86      0.82        21\n",
      "          10       0.84      0.73      0.78        22\n",
      "          11       0.94      0.75      0.83        20\n",
      "          12       0.81      0.88      0.85        25\n",
      "          13       0.58      0.61      0.60        23\n",
      "          14       0.81      0.93      0.87        28\n",
      "          15       0.81      0.89      0.85        19\n",
      "          16       0.92      0.80      0.86        15\n",
      "          17       0.68      0.86      0.76        22\n",
      "\n",
      "    accuracy                           0.79       394\n",
      "   macro avg       0.80      0.79      0.79       394\n",
      "weighted avg       0.80      0.79      0.79       394\n",
      "\n"
     ]
    }
   ],
   "source": [
    "import pandas as pd\n",
    "import seaborn as sns\n",
    "import matplotlib.pyplot as plt\n",
    "from sklearn.metrics import confusion_matrix, classification_report\n",
    "\n",
    "def print_confusion_matrix(y_true, y_pred, report=True):\n",
    "    labels = sorted(list(set(y_true)))\n",
    "    cmx_data = confusion_matrix(y_true, y_pred, labels=labels)\n",
    "    \n",
    "    df_cmx = pd.DataFrame(cmx_data, index=labels, columns=labels)\n",
    " \n",
    "    fig, ax = plt.subplots(figsize=(7, 6))\n",
    "    sns.heatmap(df_cmx, annot=True, fmt='g' ,square=False)\n",
    "    ax.set_ylim(len(set(y_true)), 0)\n",
    "    plt.show()\n",
    "    \n",
    "    if report:\n",
    "        print('Classification Report')\n",
    "        print(classification_report(y_test, y_pred))\n",
    "\n",
    "Y_pred = model.predict(X_test)\n",
    "y_pred = np.argmax(Y_pred, axis=1)\n",
    "\n",
    "print_confusion_matrix(y_test, y_pred)"
   ]
  },
  {
   "cell_type": "markdown",
   "metadata": {
    "id": "FNP6aqzc9hE5"
   },
   "source": [
    "# Convert to model for Tensorflow-Lite"
   ]
  },
  {
   "cell_type": "code",
   "execution_count": 58,
   "metadata": {
    "id": "ODjnYyld9hE6"
   },
   "outputs": [],
   "source": [
    "# Save as a model dedicated to inference\n",
    "model.save(model_save_path, include_optimizer=False)"
   ]
  },
  {
   "cell_type": "code",
   "execution_count": 59,
   "metadata": {
    "colab": {
     "base_uri": "https://localhost:8080/"
    },
    "id": "zRfuK8Y59hE6",
    "outputId": "a4ca585c-b5d5-4244-8291-8674063209bb"
   },
   "outputs": [
    {
     "name": "stdout",
     "output_type": "stream",
     "text": [
      "INFO:tensorflow:Assets written to: /tmp/tmpk96jdi3i/assets\n"
     ]
    },
    {
     "name": "stderr",
     "output_type": "stream",
     "text": [
      "INFO:tensorflow:Assets written to: /tmp/tmpk96jdi3i/assets\n",
      "2024-04-24 04:16:13.808404: W tensorflow/compiler/mlir/lite/python/tf_tfl_flatbuffer_helpers.cc:362] Ignored output_format.\n",
      "2024-04-24 04:16:13.808447: W tensorflow/compiler/mlir/lite/python/tf_tfl_flatbuffer_helpers.cc:365] Ignored drop_control_dependency.\n",
      "2024-04-24 04:16:13.808832: I tensorflow/cc/saved_model/reader.cc:43] Reading SavedModel from: /tmp/tmpk96jdi3i\n",
      "2024-04-24 04:16:13.812283: I tensorflow/cc/saved_model/reader.cc:81] Reading meta graph with tags { serve }\n",
      "2024-04-24 04:16:13.812325: I tensorflow/cc/saved_model/reader.cc:122] Reading SavedModel debug info (if present) from: /tmp/tmpk96jdi3i\n",
      "2024-04-24 04:16:13.823301: I tensorflow/cc/saved_model/loader.cc:228] Restoring SavedModel bundle.\n",
      "2024-04-24 04:16:13.926824: I tensorflow/cc/saved_model/loader.cc:212] Running initialization op on SavedModel bundle at path: /tmp/tmpk96jdi3i\n",
      "2024-04-24 04:16:13.952988: I tensorflow/cc/saved_model/loader.cc:301] SavedModel load for tags { serve }; Status: success: OK. Took 144157 microseconds.\n"
     ]
    },
    {
     "data": {
      "text/plain": [
       "1747600"
      ]
     },
     "execution_count": 59,
     "metadata": {},
     "output_type": "execute_result"
    }
   ],
   "source": [
    "# Transform model (quantization)\n",
    "\n",
    "converter = tf.lite.TFLiteConverter.from_keras_model(model)\n",
    "converter.optimizations = [tf.lite.Optimize.DEFAULT]\n",
    "tflite_quantized_model = converter.convert()\n",
    "\n",
    "open(tflite_save_path, 'wb').write(tflite_quantized_model)"
   ]
  },
  {
   "cell_type": "markdown",
   "metadata": {
    "id": "CHBPBXdx9hE6"
   },
   "source": [
    "# Inference test"
   ]
  },
  {
   "cell_type": "code",
   "execution_count": 60,
   "metadata": {
    "id": "mGAzLocO9hE7"
   },
   "outputs": [],
   "source": [
    "interpreter = tf.lite.Interpreter(model_path=tflite_save_path)\n",
    "interpreter.allocate_tensors()"
   ]
  },
  {
   "cell_type": "code",
   "execution_count": 61,
   "metadata": {
    "id": "oQuDK8YS9hE7"
   },
   "outputs": [],
   "source": [
    "# Get I / O tensor\n",
    "input_details = interpreter.get_input_details()\n",
    "output_details = interpreter.get_output_details()"
   ]
  },
  {
   "cell_type": "code",
   "execution_count": 62,
   "metadata": {
    "id": "2_ixAf_l9hE7"
   },
   "outputs": [],
   "source": [
    "interpreter.set_tensor(input_details[0]['index'], np.array([X_test[0]]))"
   ]
  },
  {
   "cell_type": "code",
   "execution_count": 63,
   "metadata": {
    "colab": {
     "base_uri": "https://localhost:8080/"
    },
    "id": "s4FoAnuc9hE7",
    "outputId": "91f18257-8d8b-4ef3-c558-e9b5f94fabbf",
    "scrolled": true
   },
   "outputs": [
    {
     "name": "stdout",
     "output_type": "stream",
     "text": [
      "CPU times: user 929 µs, sys: 323 µs, total: 1.25 ms\n",
      "Wall time: 628 µs\n"
     ]
    }
   ],
   "source": [
    "%%time\n",
    "# Inference implementation\n",
    "interpreter.invoke()\n",
    "tflite_results = interpreter.get_tensor(output_details[0]['index'])"
   ]
  },
  {
   "cell_type": "code",
   "execution_count": 64,
   "metadata": {
    "colab": {
     "base_uri": "https://localhost:8080/"
    },
    "id": "vONjp19J9hE8",
    "outputId": "77205e24-fd00-42c4-f7b6-e06e527c2cba"
   },
   "outputs": [
    {
     "name": "stdout",
     "output_type": "stream",
     "text": [
      "[2.9591645e-11 4.5304608e-15 1.1514969e-12 2.1665216e-04 6.6762568e-14\n",
      " 1.1007073e-10 1.8304107e-09 7.0299584e-16 2.8947716e-10 3.5847448e-18\n",
      " 5.1046323e-09 5.4410609e-09 1.4592786e-06 9.1067908e-05 9.9968851e-01\n",
      " 1.4671031e-09 1.1548308e-09 2.3205375e-06]\n",
      "14\n"
     ]
    }
   ],
   "source": [
    "print(np.squeeze(tflite_results))\n",
    "print(np.argmax(np.squeeze(tflite_results)))"
   ]
  },
  {
   "cell_type": "code",
   "execution_count": null,
   "metadata": {},
   "outputs": [],
   "source": []
  }
 ],
 "metadata": {
  "accelerator": "GPU",
  "colab": {
   "collapsed_sections": [],
   "name": "keypoint_classification_EN.ipynb",
   "provenance": [],
   "toc_visible": true
  },
  "kernelspec": {
   "display_name": "Python 3 (ipykernel)",
   "language": "python",
   "name": "python3"
  },
  "language_info": {
   "codemirror_mode": {
    "name": "ipython",
    "version": 3
   },
   "file_extension": ".py",
   "mimetype": "text/x-python",
   "name": "python",
   "nbconvert_exporter": "python",
   "pygments_lexer": "ipython3",
   "version": "3.8.10"
  }
 },
 "nbformat": 4,
 "nbformat_minor": 4
}
